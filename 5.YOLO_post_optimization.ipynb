{
 "cells": [
  {
   "cell_type": "markdown",
   "id": "bacf5fe5-5b4e-4674-8f3e-9721f7d2b006",
   "metadata": {},
   "source": [
    "## 1.Load model"
   ]
  },
  {
   "cell_type": "code",
   "execution_count": 2,
   "id": "b98de0aa-74b8-44a8-86c5-43a9fe435b7a",
   "metadata": {},
   "outputs": [],
   "source": [
    "from ultralytics import YOLO\n",
    "from pathlib import Path\n",
    "import os\n",
    "import numpy as np\n",
    "from tqdm import tqdm\n",
    "from glob import glob\n",
    "from itertools import product\n",
    "import pandas as pd"
   ]
  },
  {
   "cell_type": "markdown",
   "id": "a5c4f6d2-397a-426f-8b34-64e64d1064f2",
   "metadata": {},
   "source": [
    "## 2.1.Threshold Optimization\n",
    "\n",
    "- We test different combinations of confidence and IoU thresholds to find the best post-processing setting for YOLOv8\n",
    "- Aiming to improve detection performance without retraining the model."
   ]
  },
  {
   "cell_type": "code",
   "execution_count": 3,
   "id": "f816800e-c1af-4cf9-ae1b-6dbde0a68969",
   "metadata": {},
   "outputs": [],
   "source": [
    "model = YOLO(\"runs/detect/final_best_model/weights/best.pt\")\n",
    "\n",
    "# Threshold combination\n",
    "conf_thresholds = [0.25, 0.4, 0.5, 0.6]\n",
    "iou_thresholds = [0.3, 0.5, 0.7]\n",
    "param_grid = list(product(conf_thresholds, iou_thresholds))"
   ]
  },
  {
   "cell_type": "code",
   "execution_count": 4,
   "id": "942dded7-a810-4771-af90-42702d638bf1",
   "metadata": {},
   "outputs": [],
   "source": [
    "CLASS_NAMES = ['car', 'bus', 'van', 'others']\n",
    "NUM_CLASSES = len(CLASS_NAMES)\n",
    "def compute_iou(box1, box2):\n",
    "    def to_xyxy(box):\n",
    "        x, y, w, h = box\n",
    "        x1 = x - w / 2\n",
    "        y1 = y - h / 2\n",
    "        x2 = x + w / 2\n",
    "        y2 = y + h / 2\n",
    "        return x1, y1, x2, y2\n",
    "\n",
    "    x1_1, y1_1, x2_1, y2_1 = to_xyxy(box1)\n",
    "    x1_2, y1_2, x2_2, y2_2 = to_xyxy(box2)\n",
    "\n",
    "    inter_x1 = max(x1_1, x1_2)\n",
    "    inter_y1 = max(y1_1, y1_2)\n",
    "    inter_x2 = min(x2_1, x2_2)\n",
    "    inter_y2 = min(y2_1, y2_2)\n",
    "\n",
    "    inter_area = max(0, inter_x2 - inter_x1) * max(0, inter_y2 - inter_y1)\n",
    "    area1 = (x2_1 - x1_1) * (y2_1 - y1_1)\n",
    "    area2 = (x2_2 - x1_2) * (y2_2 - y1_2)\n",
    "    union_area = area1 + area2 - inter_area\n",
    "    return inter_area / union_area if union_area > 0 else 0\n"
   ]
  },
  {
   "cell_type": "code",
   "execution_count": 5,
   "id": "69802358-9182-4f20-ae30-683762ff9453",
   "metadata": {},
   "outputs": [],
   "source": [
    "def run_yolo_with_params(model, conf, iou, save_dir, img_dir=\"images/test\", xml_dir=\"Test-Annotations\", imgsz=640):\n",
    "    from xml.etree import ElementTree as ET\n",
    "    from pathlib import Path\n",
    "    import os\n",
    "    from tqdm import tqdm\n",
    "\n",
    "    def parse_ignored_regions(xml_path):\n",
    "        tree = ET.parse(xml_path)\n",
    "        root = tree.getroot()\n",
    "        regions = []\n",
    "        ignored_region = root.find(\"ignored_region\")\n",
    "        if ignored_region is not None:\n",
    "            for box in ignored_region.findall(\"box\"):\n",
    "                x = float(box.attrib[\"left\"])\n",
    "                y = float(box.attrib[\"top\"])\n",
    "                w = float(box.attrib[\"width\"])\n",
    "                h = float(box.attrib[\"height\"])\n",
    "                regions.append((x, y, x + w, y + h))\n",
    "        return regions\n",
    "\n",
    "    def is_in_ignored_region(cx, cy, ignored_regions):\n",
    "        for x1, y1, x2, y2 in ignored_regions:\n",
    "            if x1 <= cx <= x2 and y1 <= cy <= y2:\n",
    "                return True\n",
    "        return False\n",
    "\n",
    "    results = model.predict(\n",
    "        source=img_dir,\n",
    "        save=False,\n",
    "        stream=True,\n",
    "        conf=conf,\n",
    "        iou=iou,\n",
    "        imgsz=imgsz, \n",
    "        verbose=False\n",
    "    )\n",
    "\n",
    "    output_dir = Path(save_dir)\n",
    "    output_dir.mkdir(parents=True, exist_ok=True)\n",
    "    ignored_region_cache = {}\n",
    "\n",
    "    for result in tqdm(results, desc=\"Predicting images\", ncols=100, total=56340):\n",
    "        path = Path(result.path)\n",
    "        fname = path.stem\n",
    "        video_id = fname.split(\"_img\")[0]\n",
    "\n",
    "        if video_id not in ignored_region_cache:\n",
    "            xml_path = os.path.join(xml_dir, video_id + \".xml\")\n",
    "            ignored_region_cache[video_id] = parse_ignored_regions(xml_path)\n",
    "\n",
    "        ignored_regions = ignored_region_cache[video_id]\n",
    "        img_h, img_w = result.orig_shape\n",
    "        filtered_preds = []\n",
    "\n",
    "        for box in result.boxes.data.cpu().numpy():\n",
    "            x1, y1, x2, y2, conf_score, cls_id = box\n",
    "            cls_id = int(cls_id)\n",
    "            cx_pixel = (x1 + x2) / 2\n",
    "            cy_pixel = (y1 + y2) / 2\n",
    "\n",
    "            xc = cx_pixel / img_w\n",
    "            yc = cy_pixel / img_h\n",
    "            w = (x2 - x1) / img_w\n",
    "            h = (y2 - y1) / img_h\n",
    "\n",
    "            area_ratio = w * h\n",
    "            aspect_ratio = max(w/h, h/w)\n",
    "\n",
    "            if conf_score >= conf:\n",
    "                if not is_in_ignored_region(cx_pixel, cy_pixel, ignored_regions):\n",
    "                    if area_ratio >= 0.0005 and aspect_ratio <= 4.0:\n",
    "                        filtered_preds.append(f\"{cls_id} {xc:.6f} {yc:.6f} {w:.6f} {h:.6f}\")\n",
    "\n",
    "        save_path = output_dir / f\"{fname}.txt\"\n",
    "        with open(save_path, \"w\") as f:\n",
    "            f.write(\"\\n\".join(filtered_preds))"
   ]
  },
  {
   "cell_type": "code",
   "execution_count": 6,
   "id": "c750cf7d-f9e8-465d-a8c3-bcca2bbe3802",
   "metadata": {},
   "outputs": [],
   "source": [
    "def evaluate_predictions(pred_dir, gt_dir, xml_dir, image_size=(960, 540), iou_threshold=0.5):\n",
    "    pred_files = sorted(glob(os.path.join(pred_dir, \"*.txt\")))\n",
    "    tp = np.zeros(NUM_CLASSES, dtype=int)\n",
    "    fp = np.zeros(NUM_CLASSES, dtype=int)\n",
    "    fn = np.zeros(NUM_CLASSES, dtype=int)\n",
    "    y_true_all = []\n",
    "    y_pred_all = []\n",
    "\n",
    "    for pred_file in tqdm(pred_files, desc=\"Evaluating\"):\n",
    "        fname = os.path.basename(pred_file)\n",
    "        video_id = fname.split(\"_img\")[0]\n",
    "\n",
    "        gt_file = os.path.join(gt_dir, fname)\n",
    "        if not os.path.exists(gt_file):\n",
    "            continue\n",
    "\n",
    "        pred_boxes = np.loadtxt(pred_file).reshape(-1, 5) if os.path.getsize(pred_file) > 0 else np.empty((0, 5))\n",
    "        gt_boxes = np.loadtxt(gt_file).reshape(-1, 5) if os.path.getsize(gt_file) > 0 else np.empty((0, 5))\n",
    "\n",
    "        matched_gt = set()\n",
    "\n",
    "        for pred in pred_boxes:\n",
    "            pred_cls = int(pred[0])\n",
    "            pred_box = pred[1:5]\n",
    "            best_iou = 0\n",
    "            best_gt_idx = -1\n",
    "            for i, gt in enumerate(gt_boxes):\n",
    "                gt_cls = int(gt[0])\n",
    "                if i in matched_gt or pred_cls != gt_cls:\n",
    "                    continue\n",
    "                iou = compute_iou(pred_box, gt[1:5])\n",
    "                if iou > best_iou:\n",
    "                    best_iou = iou\n",
    "                    best_gt_idx = i\n",
    "\n",
    "            if best_iou >= iou_threshold:\n",
    "                tp[pred_cls] += 1\n",
    "                matched_gt.add(best_gt_idx)\n",
    "                y_true_all.append(pred_cls)\n",
    "                y_pred_all.append(pred_cls)\n",
    "            else:\n",
    "                fp[pred_cls] += 1\n",
    "                y_pred_all.append(pred_cls)\n",
    "                y_true_all.append(NUM_CLASSES)  # dummy class\n",
    "\n",
    "        for i, gt in enumerate(gt_boxes):\n",
    "            if i not in matched_gt:\n",
    "                fn[int(gt[0])] += 1\n",
    "\n",
    "    precision = tp / (tp + fp + 1e-6)\n",
    "    recall = tp / (tp + fn + 1e-6)\n",
    "    f1 = 2 * precision * recall / (precision + recall + 1e-6)\n",
    "\n",
    "    return {\n",
    "        \"precision\": precision,\n",
    "        \"recall\": recall,\n",
    "        \"f1\": f1,\n",
    "        \"f1_mean\": f1.mean(),\n",
    "        \"f1_var\": f1.var()\n",
    "    }"
   ]
  },
  {
   "cell_type": "code",
   "execution_count": null,
   "id": "8e7de6cd-59fa-43ab-a5a5-d19da26ba3b7",
   "metadata": {},
   "outputs": [],
   "source": [
    "results_list = []\n",
    "\n",
    "for idx, (conf, iou) in enumerate(param_grid):\n",
    "    run_name = f\"conf{conf}_iou{iou}\"\n",
    "    pred_dir = f\"runs/eval_thresholds/{run_name}/labels\"\n",
    "    \n",
    "    print(f\"\\n[{idx+1}/{len(param_grid)}] Running conf={conf}, iou={iou}\")\n",
    "    \n",
    "    print(\"Predicting on test set...\")\n",
    "    run_yolo_with_params(model, conf, iou, pred_dir)\n",
    "\n",
    "    print(\"Evaluating predictions...\")\n",
    "    metrics = evaluate_predictions(\n",
    "        pred_dir=pred_dir,\n",
    "        gt_dir=\"labels/test\",\n",
    "        xml_dir=\"Test-Annotations\",\n",
    "        image_size=(960, 540),\n",
    "        iou_threshold=0.5\n",
    "    )\n",
    "\n",
    "    results_list.append({\n",
    "        \"run_name\": run_name,\n",
    "        \"conf\": conf,\n",
    "        \"iou\": iou,\n",
    "        \"f1_mean\": metrics[\"f1_mean\"],\n",
    "        \"f1_var\": metrics[\"f1_var\"],\n",
    "        \"precision_mean\": metrics[\"precision\"].mean(),\n",
    "        \"recall_mean\": metrics[\"recall\"].mean()\n",
    "    })"
   ]
  },
  {
   "cell_type": "code",
   "execution_count": 11,
   "id": "037ee844-34be-46e9-a99d-4fa4bf5cef41",
   "metadata": {},
   "outputs": [
    {
     "name": "stdout",
     "output_type": "stream",
     "text": [
      "\n",
      " Grid search completed. Results saved to threshold_search_results.csv\n"
     ]
    }
   ],
   "source": [
    "# Convert DataFrame and save\n",
    "df_results = pd.DataFrame(results_list)\n",
    "df_results = df_results.sort_values(by=\"f1_mean\", ascending=False)\n",
    "df_results.to_csv(\"threshold_search_results.csv\", index=False)\n",
    "print(\"\\n Grid search completed. Results saved to threshold_search_results.csv\")"
   ]
  },
  {
   "cell_type": "markdown",
   "id": "de804d82-838f-43bf-b424-221c2f712c9f",
   "metadata": {},
   "source": [
    "## 2.2.Read the results and confirm the best threshold combination"
   ]
  },
  {
   "cell_type": "code",
   "execution_count": 6,
   "id": "e01d74cf-cf92-4b22-a479-16edd322eabc",
   "metadata": {},
   "outputs": [
    {
     "name": "stdout",
     "output_type": "stream",
     "text": [
      "          run_name  conf  iou   f1_mean    f1_var  precision_mean  recall_mean\n",
      "0  conf0.25_iou0.5  0.25  0.5  0.689705  0.016898        0.775193     0.623431\n",
      "1  conf0.25_iou0.3  0.25  0.3  0.689304  0.016776        0.780532     0.618950\n",
      "2  conf0.25_iou0.7  0.25  0.7  0.682914  0.015838        0.756596     0.625308\n",
      "3   conf0.4_iou0.5  0.40  0.5  0.682669  0.018289        0.812228     0.593453\n",
      "4   conf0.4_iou0.3  0.40  0.3  0.681622  0.017991        0.815176     0.589901\n"
     ]
    }
   ],
   "source": [
    "df_results = pd.read_csv(\"threshold_search_results.csv\")\n",
    "df_best = df_results.sort_values(by=\"f1_mean\", ascending=False)\n",
    "print(df_best.head(5))  "
   ]
  },
  {
   "cell_type": "code",
   "execution_count": 7,
   "id": "2885213b-b196-4775-904a-f5a7e705a6c6",
   "metadata": {},
   "outputs": [
    {
     "name": "stdout",
     "output_type": "stream",
     "text": [
      "Best Threshold Found: conf=0.25, iou=0.5\n"
     ]
    }
   ],
   "source": [
    "best_conf = df_best.iloc[0][\"conf\"]\n",
    "best_iou = df_best.iloc[0][\"iou\"]\n",
    "\n",
    "print(f\"Best Threshold Found: conf={best_conf}, iou={best_iou}\")"
   ]
  },
  {
   "cell_type": "markdown",
   "id": "ff0f9b4e-9507-4d5b-998d-6cac19214bbc",
   "metadata": {},
   "source": [
    "## 3.1.Multi-scale Inference for YOLOv8\n",
    "- We aim to evaluate how different input image sizes (`imgsz`) affect the detection performance of our trained YOLOv8 model.  \n",
    "- Since YOLO is typically trained at a fixed resolution (e.g., 640×640), adjusting the inference size can:\n",
    "- Improve detection of small or dense objects.\n",
    "- Affect inference speed and accuracy trade-offs."
   ]
  },
  {
   "cell_type": "code",
   "execution_count": 18,
   "id": "fa307854-ec00-44cd-8237-9003d3d47c65",
   "metadata": {},
   "outputs": [
    {
     "name": "stdout",
     "output_type": "stream",
     "text": [
      "\n",
      " Running inference at image size: 480x480\n"
     ]
    },
    {
     "name": "stderr",
     "output_type": "stream",
     "text": [
      "Predicting images: 56340it [28:41, 32.73it/s]\n",
      "Evaluating: 100%|███████████████████████████████████████████████████████████████| 56340/56340 [02:41<00:00, 348.26it/s]\n"
     ]
    },
    {
     "name": "stdout",
     "output_type": "stream",
     "text": [
      "\n",
      " Running inference at image size: 640x640\n"
     ]
    },
    {
     "name": "stderr",
     "output_type": "stream",
     "text": [
      "Predicting images: 56340it [28:33, 32.88it/s]\n",
      "Evaluating: 100%|███████████████████████████████████████████████████████████████| 56340/56340 [02:23<00:00, 392.10it/s]\n"
     ]
    },
    {
     "name": "stdout",
     "output_type": "stream",
     "text": [
      "\n",
      " Running inference at image size: 768x768\n"
     ]
    },
    {
     "name": "stderr",
     "output_type": "stream",
     "text": [
      "Predicting images: 56340it [27:56, 33.60it/s]\n",
      "Evaluating: 100%|███████████████████████████████████████████████████████████████| 56340/56340 [02:23<00:00, 392.77it/s]\n"
     ]
    },
    {
     "name": "stdout",
     "output_type": "stream",
     "text": [
      "\n",
      " Running inference at image size: 960x960\n"
     ]
    },
    {
     "name": "stderr",
     "output_type": "stream",
     "text": [
      "Predicting images: 56340it [28:51, 32.54it/s]\n",
      "Evaluating: 100%|███████████████████████████████████████████████████████████████| 56340/56340 [02:26<00:00, 383.70it/s]"
     ]
    },
    {
     "name": "stdout",
     "output_type": "stream",
     "text": [
      "\n",
      " Multi-scale inference completed. Results saved to multiscale_inference_results.csv\n"
     ]
    },
    {
     "name": "stderr",
     "output_type": "stream",
     "text": [
      "\n"
     ]
    }
   ],
   "source": [
    "import time\n",
    "img_sizes = [480, 640, 768, 960]\n",
    "scale_results = []\n",
    "\n",
    "for imgsz in img_sizes:\n",
    "    print(f\"\\n Running inference at image size: {imgsz}x{imgsz}\")\n",
    "    \n",
    "    save_dir = f\"runs/eval_multiscale/size{imgsz}/labels\"\n",
    "    \n",
    "    # Start the timer\n",
    "    start_time = time.time()\n",
    "\n",
    "    # Inference and save (keep using the previous run_yolo_with_params filtering logic)\n",
    "    run_yolo_with_params(\n",
    "        model=model,\n",
    "        conf=0.25,  # Use the best conf from the previous step\n",
    "        iou=0.5,    # Use the best previous step iou\n",
    "        save_dir=save_dir,\n",
    "        img_dir=\"images/test\",\n",
    "        xml_dir=\"Test-Annotations\",\n",
    "        imgsz=imgsz\n",
    "    )\n",
    "\n",
    "    # Stop the timer\n",
    "    elapsed = time.time() - start_time\n",
    "\n",
    "    metrics = evaluate_predictions(\n",
    "        pred_dir=save_dir,\n",
    "        gt_dir=\"labels/test\",\n",
    "        xml_dir=\"Test-Annotations\",\n",
    "        image_size=(960, 540),\n",
    "        iou_threshold=0.5\n",
    "    )\n",
    "\n",
    "    scale_results.append({\n",
    "        \"imgsz\": imgsz,\n",
    "        \"f1_mean\": metrics[\"f1_mean\"],\n",
    "        \"f1_var\": metrics[\"f1_var\"],\n",
    "        \"precision_mean\": metrics[\"precision\"].mean(),\n",
    "        \"recall_mean\": metrics[\"recall\"].mean(),\n",
    "        \"time_per_set\": elapsed,\n",
    "        \"time_per_image\": elapsed / 56340  \n",
    "    })\n",
    "\n",
    "df_scale = pd.DataFrame(scale_results)\n",
    "df_scale = df_scale.sort_values(by=\"f1_mean\", ascending=False)\n",
    "df_scale.to_csv(\"multiscale_inference_results.csv\", index=False)\n",
    "print(\"\\n Multi-scale inference completed. Results saved to multiscale_inference_results.csv\")"
   ]
  },
  {
   "cell_type": "code",
   "execution_count": 8,
   "id": "009dbd57-cda3-42c0-96d2-fdc678c6d1a8",
   "metadata": {},
   "outputs": [
    {
     "name": "stdout",
     "output_type": "stream",
     "text": [
      "   imgsz   f1_mean    f1_var  precision_mean  recall_mean  time_per_set  \\\n",
      "0    640  0.689705  0.016898        0.775193     0.623431   1713.748343   \n",
      "1    960  0.685368  0.019970        0.723930     0.652127   1731.336746   \n",
      "2    768  0.679771  0.023028        0.763216     0.616371   1676.552468   \n",
      "3    480  0.650585  0.020772        0.757183     0.573779   1721.353677   \n",
      "\n",
      "   time_per_image  \n",
      "0        0.030418  \n",
      "1        0.030730  \n",
      "2        0.029758  \n",
      "3        0.030553  \n",
      "\n",
      "Best scales by F1 score:\n",
      "   imgsz   f1_mean    f1_var  precision_mean  recall_mean  time_per_set  \\\n",
      "0    640  0.689705  0.016898        0.775193     0.623431   1713.748343   \n",
      "1    960  0.685368  0.019970        0.723930     0.652127   1731.336746   \n",
      "2    768  0.679771  0.023028        0.763216     0.616371   1676.552468   \n",
      "3    480  0.650585  0.020772        0.757183     0.573779   1721.353677   \n",
      "\n",
      "   time_per_image  \n",
      "0        0.030418  \n",
      "1        0.030730  \n",
      "2        0.029758  \n",
      "3        0.030553  \n",
      "\n",
      " Best inference size: 640x640 with F1 = 0.6897\n"
     ]
    }
   ],
   "source": [
    "df_scale = pd.read_csv(\"multiscale_inference_results.csv\")\n",
    "print(df_scale)\n",
    "\n",
    "df_best = df_scale.sort_values(by=\"f1_mean\", ascending=False)\n",
    "print(\"\\nBest scales by F1 score:\")\n",
    "print(df_best)\n",
    "\n",
    "best_imgsz = df_best.iloc[0][\"imgsz\"]\n",
    "best_f1 = df_best.iloc[0][\"f1_mean\"]\n",
    "\n",
    "print(f\"\\n Best inference size: {int(best_imgsz)}x{int(best_imgsz)} with F1 = {best_f1:.4f}\")"
   ]
  },
  {
   "cell_type": "markdown",
   "id": "1172abed-a187-428d-bbf6-e5de43a38c17",
   "metadata": {},
   "source": [
    "We tested the YOLOv8 model on different input image sizes: 480, 640, 768, and 960.\n",
    "\n",
    "- The best F1 score (0.6897) was achieved at **640×640** resolution.\n",
    "- Although 960×960 slightly improved recall, it resulted in lower precision and similar inference time.\n",
    "- 480×480 significantly degraded the detection performance.\n",
    "\n",
    "**Conclusion**: We choose **640×640** as the final inference size for a good balance between accuracy and efficiency.\n"
   ]
  },
  {
   "cell_type": "markdown",
   "id": "2519a9e7-fc49-41a6-ae4f-90c745fbf900",
   "metadata": {},
   "source": [
    "## 4.1. Rule-based False Positive Filtering\n",
    "To further clean up false positives, we apply simple rule-based post-processing:\n",
    "\n",
    "- Ignore boxes with extreme aspect ratios (e.g., width/height > 4 or height/width > 4).\n",
    "- Ignore very small boxes located near the image edges.\n",
    "\n",
    "These heuristics aim to filter out unlikely detections on backgrounds like road surfaces or building edges, which the model may misclassify."
   ]
  },
  {
   "cell_type": "code",
   "execution_count": 15,
   "id": "34716b85-e24a-4446-9562-c51e46121d4d",
   "metadata": {},
   "outputs": [],
   "source": [
    "import os\n",
    "import numpy as np\n",
    "import matplotlib.pyplot as plt\n",
    "from glob import glob\n",
    "import xml.etree.ElementTree as ET\n",
    "from tqdm import tqdm"
   ]
  },
  {
   "cell_type": "code",
   "execution_count": 16,
   "id": "4ec13a0f-6d61-44ae-ac8e-faf11f412939",
   "metadata": {},
   "outputs": [],
   "source": [
    "xml_dir = \"Test-Annotations\"\n",
    "image_size = (960, 540)    \n",
    "\n",
    "area_ratios = []\n",
    "aspect_ratios = []\n",
    "center_xs = []\n",
    "center_ys = []"
   ]
  },
  {
   "cell_type": "code",
   "execution_count": 17,
   "id": "1367e0ae-5c22-4cd9-a51d-241c294c4a63",
   "metadata": {},
   "outputs": [
    {
     "name": "stdout",
     "output_type": "stream",
     "text": [
      "Found 40 XML files\n"
     ]
    },
    {
     "name": "stderr",
     "output_type": "stream",
     "text": [
      "Parsing GT XMLs: 100%|█████████████████████████████████████████████████████████████████| 40/40 [00:20<00:00,  1.99it/s]"
     ]
    },
    {
     "name": "stdout",
     "output_type": "stream",
     "text": [
      " Collected 675774 boxes\n"
     ]
    },
    {
     "name": "stderr",
     "output_type": "stream",
     "text": [
      "\n"
     ]
    }
   ],
   "source": [
    "def parse_ground_truth_boxes(xml_path):\n",
    "    tree = ET.parse(xml_path)\n",
    "    root = tree.getroot()\n",
    "    boxes = []\n",
    "\n",
    "    for frame in root.findall(\"frame\"):\n",
    "        target_list = frame.find(\"target_list\")\n",
    "        if target_list is None:\n",
    "            continue\n",
    "        for target in target_list.findall(\"target\"):\n",
    "            box = target.find(\"box\")\n",
    "            if box is not None:\n",
    "                left = float(box.attrib['left'])\n",
    "                top = float(box.attrib['top'])\n",
    "                width = float(box.attrib['width'])\n",
    "                height = float(box.attrib['height'])\n",
    "                boxes.append({\n",
    "                    \"left\": left,\n",
    "                    \"top\": top,\n",
    "                    \"width\": width,\n",
    "                    \"height\": height\n",
    "                })\n",
    "    return boxes\n",
    "\n",
    "xml_files = glob(os.path.join(xml_dir, \"*.xml\"))\n",
    "print(f\"Found {len(xml_files)} XML files\")\n",
    "\n",
    "for xml_path in tqdm(xml_files, desc=\"Parsing GT XMLs\"):\n",
    "    boxes = parse_ground_truth_boxes(xml_path)\n",
    "    for box in boxes:\n",
    "        x = box['left']\n",
    "        y = box['top']\n",
    "        w = box['width']\n",
    "        h = box['height']\n",
    "\n",
    "        img_w, img_h = image_size\n",
    "\n",
    "        area_ratio = (w * h) / (img_w * img_h)\n",
    "        aspect_ratio = max(w/h, h/w)\n",
    "        xc = (x + w/2) / img_w\n",
    "        yc = (y + h/2) / img_h\n",
    "\n",
    "        area_ratios.append(area_ratio)\n",
    "        aspect_ratios.append(aspect_ratio)\n",
    "        center_xs.append(xc)\n",
    "        center_ys.append(yc)\n",
    "\n",
    "print(f\" Collected {len(area_ratios)} boxes\")"
   ]
  },
  {
   "cell_type": "code",
   "execution_count": 18,
   "id": "1c5aa5a4-987d-41ca-b34f-3a8d0c96080b",
   "metadata": {},
   "outputs": [
    {
     "data": {
      "image/png": "[encoded data removed]",
      "text/plain": [
       "<Figure size 640x480 with 1 Axes>"
      ]
     },
     "metadata": {},
     "output_type": "display_data"
    }
   ],
   "source": [
    "plt.hist(area_ratios, bins=50)\n",
    "plt.title(\"Normalized Box Area Distribution\")\n",
    "plt.xlabel(\"Area Ratio\")\n",
    "plt.ylabel(\"Count\")\n",
    "plt.grid()\n",
    "plt.show()"
   ]
  },
  {
   "cell_type": "code",
   "execution_count": 19,
   "id": "10408e74-3aa3-40b8-9f36-eb8df985bae7",
   "metadata": {},
   "outputs": [
    {
     "data": {
      "image/png": "[encoded data removed]",
      "text/plain": [
       "<Figure size 640x480 with 1 Axes>"
      ]
     },
     "metadata": {},
     "output_type": "display_data"
    }
   ],
   "source": [
    "plt.hist(aspect_ratios, bins=50)\n",
    "plt.title(\"Aspect Ratio (w/h or h/w) Distribution\")\n",
    "plt.xlabel(\"Aspect Ratio\")\n",
    "plt.ylabel(\"Count\")\n",
    "plt.grid()\n",
    "plt.show()"
   ]
  },
  {
   "cell_type": "markdown",
   "id": "1f654b60-c773-4537-b10e-3edfabf676fe",
   "metadata": {},
   "source": [
    " **Small box filtering**:  \n",
    "  Ignore predicted boxes with normalized area smaller than **0.0005**.  \n",
    "  (These are usually noisy detections or tiny irrelevant objects.)\n",
    "\n",
    "- **Extreme aspect ratio filtering**:  \n",
    "  Ignore boxes with an aspect ratio (w/h or h/w) greater than **4.0**.  \n",
    "  (Such boxes are very elongated and unlikely to represent real vehicles.)\n"
   ]
  },
  {
   "cell_type": "code",
   "execution_count": 24,
   "id": "d095eae7-e073-4ca9-b738-cccc837ef311",
   "metadata": {},
   "outputs": [
    {
     "name": "stderr",
     "output_type": "stream",
     "text": [
      "Predicting images: 100%|██████████████████████████████████████| 56340/56340 [27:58<00:00, 33.56it/s]\n"
     ]
    }
   ],
   "source": [
    "save_dir = \"runs/eval_rule_based/labels\"\n",
    "\n",
    "run_yolo_with_params(\n",
    "    model=model,\n",
    "    conf=0.25,\n",
    "    iou=0.5,\n",
    "    save_dir=save_dir,\n",
    "    img_dir=\"images/test\",\n",
    "    xml_dir=\"Test-Annotations\",\n",
    "    imgsz=640\n",
    ")"
   ]
  },
  {
   "cell_type": "code",
   "execution_count": 7,
   "id": "1ec80ee6-e493-4f8e-9525-ce08902ac58f",
   "metadata": {},
   "outputs": [
    {
     "name": "stderr",
     "output_type": "stream",
     "text": [
      "Evaluating: 100%|███████████████████████████████████████████████████████████████| 56340/56340 [02:21<00:00, 397.48it/s]\n",
      "Evaluating: 100%|███████████████████████████████████████████████████████████████| 56340/56340 [02:34<00:00, 364.29it/s]"
     ]
    },
    {
     "name": "stdout",
     "output_type": "stream",
     "text": [
      "            Version  Precision Mean  Recall Mean   F1 Mean  F1 Variance\n",
      "0  Before Filtering        0.775193     0.623431  0.689705     0.016898\n",
      "1   After Filtering        0.781482     0.617215  0.688406     0.016627\n"
     ]
    },
    {
     "name": "stderr",
     "output_type": "stream",
     "text": [
      "\n"
     ]
    }
   ],
   "source": [
    "metrics_before = evaluate_predictions(\n",
    "    pred_dir=\"runs/eval_thresholds/conf0.25_iou0.5/labels\",  # 你之前baseline存的目录\n",
    "    gt_dir=\"labels/test\",\n",
    "    xml_dir=\"Test-Annotations\",\n",
    "    image_size=(960, 540),\n",
    "    iou_threshold=0.5\n",
    ")\n",
    "\n",
    "metrics_after = evaluate_predictions(\n",
    "    pred_dir=\"runs/eval_rule_based/labels\",\n",
    "    gt_dir=\"labels/test\",\n",
    "    xml_dir=\"Test-Annotations\",\n",
    "    image_size=(960, 540),\n",
    "    iou_threshold=0.5\n",
    ")\n",
    "\n",
    "\n",
    "compare_results = pd.DataFrame({\n",
    "    \"Version\": [\"Before Filtering\", \"After Filtering\"],\n",
    "    \"Precision Mean\": [metrics_before[\"precision\"].mean(), metrics_after[\"precision\"].mean()],\n",
    "    \"Recall Mean\": [metrics_before[\"recall\"].mean(), metrics_after[\"recall\"].mean()],\n",
    "    \"F1 Mean\": [metrics_before[\"f1_mean\"], metrics_after[\"f1_mean\"]],\n",
    "    \"F1 Variance\": [metrics_before[\"f1_var\"], metrics_after[\"f1_var\"]]\n",
    "})\n",
    "\n",
    "print(compare_results)"
   ]
  },
  {
   "cell_type": "markdown",
   "id": "aecb351d-d9a0-4a17-a175-56caa54fe00d",
   "metadata": {},
   "source": [
    "- By applying simple rule-based post-processing (area and aspect ratio filtering)\n",
    "- we successfully improved the detection precision without significantly affecting recall or F1 score.\n",
    "- This leads to a cleaner and more balanced prediction."
   ]
  },
  {
   "cell_type": "code",
   "execution_count": null,
   "id": "30dba7f6-0219-4009-99e0-df7f74fddac5",
   "metadata": {},
   "outputs": [],
   "source": []
  }
 ],
 "metadata": {
  "kernelspec": {
   "display_name": "Python (Machine_Learning)",
   "language": "python",
   "name": "machine_learning"
  },
  "language_info": {
   "codemirror_mode": {
    "name": "ipython",
    "version": 3
   },
   "file_extension": ".py",
   "mimetype": "text/x-python",
   "name": "python",
   "nbconvert_exporter": "python",
   "pygments_lexer": "ipython3",
   "version": "3.11.4"
  }
 },
 "nbformat": 4,
 "nbformat_minor": 5
}
